{
 "cells": [
  {
   "cell_type": "code",
   "execution_count": null,
   "id": "babc976e-e5a4-4410-969a-ea7cc3525bd0",
   "metadata": {},
   "outputs": [],
   "source": []
  },
  {
   "cell_type": "markdown",
   "id": "c5676dac-0ee6-49eb-a3c7-e30b6b92e2b1",
   "metadata": {},
   "source": [
    "### Code Build using \n",
    "- Anaconda Navigator\n",
    "- Jupyter Notebook\n",
    "- Python and python libaries "
   ]
  },
  {
   "cell_type": "markdown",
   "id": "2b7ca42b-8ba0-4db6-aff0-c59e2bc8eb4b",
   "metadata": {},
   "source": [
    "### asumption \n",
    "- The spec.json file gives the details about the column names and the maximum number of characters each column can hold in the file.\n",
    "- assuming there will be some data to work with, which we'll use to create a new file with the specified column widths. After that, we'll convert this file from a .txt format to a CSV format."
   ]
  },
  {
   "cell_type": "code",
   "execution_count": 2,
   "id": "7e4ab0ac-19e6-4ab4-a99f-15c54c3083be",
   "metadata": {},
   "outputs": [],
   "source": [
    "import json\n",
    "import csv"
   ]
  },
  {
   "cell_type": "code",
   "execution_count": 7,
   "id": "721517c9-ec90-4697-8d6c-4d0f21d5718f",
   "metadata": {},
   "outputs": [],
   "source": [
    "# Load the spec.json file\n",
    "with open('spec.json', 'r') as file:\n",
    "    spec = json.load(file)\n",
    "\n",
    "# Convert offsets to integers\n",
    "offsets = list(map(int, spec[\"Offsets\"]))\n",
    "\n",
    "# Sample data to write into the fixed-width file\n",
    "possible_sample_data = [\n",
    "    [\"John\", \"Doe\", \"M\", \"NY\", \"123 Elm St\", \"10001\", \"john.doe@example.com\", \"Software Engineer\", \"New York, NY\", \"2024-08-24\"],\n",
    "    [\"Jane\", \"Smith\", \"F\", \"CA\", \"456 Oak St\", \"90001\", \"jane.smith@example.com\", \"Data Scientist\", \"Los Angeles, CA\", \"2024-08-23\"],\n",
    "    [\"1234578000\", \"abcdeghijklabcd\", \"1234567788\", \"456668999\", \"1234567890123\", \"4567890\", \"1234567890\", \"abcdefghijklm\", \"nopqrstuvwxyz\", \"abcdefghijklm\"],\n",
    "    [\"67890asdfasdf\", \"fghij123432asdfasdf\", \"4560098766\", \"7896666288823\", \"9876543210987\", \"0123456\", \"0987654321\", \"mnopqrstuvwxyz\", \"abcdefghijklm\", \"nopqrstuvwxyz\"],\n",
    "    # Add more rows as needed\n",
    "]\n",
    "\n",
    "# Function to parse data based on offset\n",
    "def pad_data(value, length):\n",
    "    return str(value).ljust(length)[:length]\n",
    "\n",
    "# Generate fixed-width file content\n",
    "fixed_width_lines = []\n",
    "\n",
    "# Include header if specified\n",
    "if spec[\"IncludeHeader\"] == \"True\":\n",
    "    header = ''.join([pad_data(col, offsets[i]) for i, col in enumerate(spec[\"ColumnNames\"])])\n",
    "    fixed_width_lines.append(header)\n",
    "\n",
    "# Write data rows\n",
    "for row in possible_sample_data:\n",
    "    fixed_width_line = ''.join([pad_data(row[i], offsets[i]) for i in range(len(row))])\n",
    "    fixed_width_lines.append(fixed_width_line)\n",
    "\n",
    "# Write to a fixed-width file\n",
    "fixed_width_file_path = 'fixed_width_file.txt'\n",
    "with open(fixed_width_file_path, 'w', encoding=spec[\"FixedWidthEncoding\"]) as f:\n",
    "    f.write('\\n'.join(fixed_width_lines))"
   ]
  },
  {
   "cell_type": "code",
   "execution_count": 8,
   "id": "eda770a6-4425-443b-99f7-8cd2ee53a80d",
   "metadata": {},
   "outputs": [],
   "source": [
    "# Function to parse a fixed-width line into fields\n",
    "def parse_fixed_width_line(line, offsets):\n",
    "    fields = []\n",
    "    start = 0\n",
    "    for offset in offsets:\n",
    "        fields.append(line[start:start + offset].strip())\n",
    "        start += offset\n",
    "    return fields\n",
    "\n",
    "# Parse the fixed-width file and write to a CSV\n",
    "csv_file_path = 'parsed_output.csv'\n",
    "with open(fixed_width_file_path, 'r', encoding=spec[\"FixedWidthEncoding\"]) as fw_file, \\\n",
    "     open(csv_file_path, 'w', encoding=spec[\"DelimitedEncoding\"], newline='') as csv_file:\n",
    "    \n",
    "    writer = csv.writer(csv_file)\n",
    "    \n",
    "    # Write header to CSV\n",
    "    writer.writerow(spec[\"ColumnNames\"])\n",
    "    \n",
    "    # Read and parse the lines\n",
    "    lines = fw_file.readlines()\n",
    "    if spec[\"IncludeHeader\"] == \"True\":\n",
    "        # Skip the header line in the fixed-width file\n",
    "        lines = lines[1:]\n",
    "    \n",
    "    # Write each parsed line to the CSV\n",
    "    for line in lines:\n",
    "        parsed_line = parse_fixed_width_line(line, offsets)\n",
    "        writer.writerow(parsed_line)"
   ]
  },
  {
   "cell_type": "code",
   "execution_count": null,
   "id": "8e3ba6a4-0d96-4632-9a55-ae7fc5aaae8c",
   "metadata": {},
   "outputs": [],
   "source": []
  }
 ],
 "metadata": {
  "kernelspec": {
   "display_name": "Python 3 (ipykernel)",
   "language": "python",
   "name": "python3"
  },
  "language_info": {
   "codemirror_mode": {
    "name": "ipython",
    "version": 3
   },
   "file_extension": ".py",
   "mimetype": "text/x-python",
   "name": "python",
   "nbconvert_exporter": "python",
   "pygments_lexer": "ipython3",
   "version": "3.12.4"
  }
 },
 "nbformat": 4,
 "nbformat_minor": 5
}
